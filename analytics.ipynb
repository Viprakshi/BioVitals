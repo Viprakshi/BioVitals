{
 "cells": [
  {
   "cell_type": "code",
   "execution_count": 1,
   "id": "39fafd46",
   "metadata": {},
   "outputs": [
    {
     "name": "stderr",
     "output_type": "stream",
     "text": [
      "\n",
      "[notice] A new release of pip is available: 24.2 -> 25.1.1\n",
      "[notice] To update, run: python.exe -m pip install --upgrade pip\n",
      "\n",
      "[notice] A new release of pip is available: 24.2 -> 25.1.1\n",
      "[notice] To update, run: python.exe -m pip install --upgrade pip\n"
     ]
    }
   ],
   "source": [
    "!pip install pandas matplotlib seaborn -q\n",
    "!pip install ipywidgets -q"
   ]
  },
  {
   "cell_type": "code",
   "execution_count": 2,
   "id": "9e49c489",
   "metadata": {},
   "outputs": [
    {
     "data": {
      "application/vnd.jupyter.widget-view+json": {
       "model_id": "b5aa38d4effe41d0808f271c3b758bb9",
       "version_major": 2,
       "version_minor": 0
      },
      "text/plain": [
       "interactive(children=(Dropdown(description='Name:', options=('Viprakshi', 'Vipul', 'Yashmitha', 'viprakshi', '…"
      ]
     },
     "metadata": {},
     "output_type": "display_data"
    },
    {
     "data": {
      "text/plain": [
       "<function __main__.plot_metrics(name, date, metric)>"
      ]
     },
     "execution_count": 2,
     "metadata": {},
     "output_type": "execute_result"
    }
   ],
   "source": [
    "import pandas as pd\n",
    "import matplotlib.pyplot as plt\n",
    "import seaborn as sns\n",
    "from ipywidgets import interact, widgets\n",
    "from IPython.display import display, clear_output\n",
    "import matplotlib.dates as mdates\n",
    "\n",
    "df = pd.read_csv('patient_data.csv')\n",
    "df['DateTime'] = pd.to_datetime(df['DateTime'])\n",
    "df['Date'] = df['DateTime'].dt.date\n",
    "df['Name'] = df['Name'].str.strip()\n",
    "\n",
    "name_options = sorted(df['Name'].unique())\n",
    "date_options_by_name = {name: sorted(df[df['Name'] == name]['Date'].unique()) for name in name_options}\n",
    "metric_options = ['All', 'SpO2', 'Temperature', 'Pulse']\n",
    "\n",
    "name_dropdown = widgets.Dropdown(options=name_options, description='Name:')\n",
    "date_dropdown = widgets.Dropdown(description='Date:')\n",
    "metric_dropdown = widgets.Dropdown(options=metric_options, description='Metric:')\n",
    "\n",
    "def update_date_options(*args):\n",
    "    selected_name = name_dropdown.value\n",
    "    date_dropdown.options = date_options_by_name.get(selected_name, [])\n",
    "\n",
    "name_dropdown.observe(update_date_options, names='value')\n",
    "update_date_options()\n",
    "\n",
    "def plot_metrics(name, date, metric):\n",
    "    clear_output(wait=True)\n",
    "    display(name_dropdown, date_dropdown, metric_dropdown)\n",
    "\n",
    "    filtered = df[\n",
    "        (df['Name'] == name) &\n",
    "        (df['Date'] == date)\n",
    "    ].sort_values('DateTime')\n",
    "\n",
    "    if filtered.empty:\n",
    "        print(\"No data found for that name and date.\")\n",
    "        return\n",
    "\n",
    "    plt.figure(figsize=(14, 6))\n",
    "\n",
    "    if metric == 'All':\n",
    "        plt.plot(filtered['DateTime'], filtered['SpO2'], marker='o', label='SpO₂ (%)')\n",
    "        plt.plot(filtered['DateTime'], filtered['Temperature'], marker='s', label='Temperature (°C)')\n",
    "        plt.plot(filtered['DateTime'], filtered['Pulse'], marker='^', label='Pulse (BPM)')\n",
    "    else:\n",
    "        plt.plot(filtered['DateTime'], filtered[metric], marker='o', label=metric)\n",
    "\n",
    "    plt.title(f\"{metric} Readings for {name} on {date}\" if metric != 'All' else f\"Health Metrics for {name} on {date}\")\n",
    "    plt.xlabel(\"Time\")\n",
    "    plt.gca().xaxis.set_major_formatter(mdates.DateFormatter('%H:%M'))\n",
    "    plt.ylabel(\"Values\")\n",
    "    plt.legend()\n",
    "    plt.grid(True)\n",
    "    plt.tight_layout()\n",
    "    plt.show()\n",
    "\n",
    "interact(plot_metrics, name=name_dropdown, date=date_dropdown, metric=metric_dropdown)\n"
   ]
  },
  {
   "cell_type": "code",
   "execution_count": null,
   "id": "f699d159",
   "metadata": {},
   "outputs": [],
   "source": []
  }
 ],
 "metadata": {
  "kernelspec": {
   "display_name": "Python 3",
   "language": "python",
   "name": "python3"
  },
  "language_info": {
   "codemirror_mode": {
    "name": "ipython",
    "version": 3
   },
   "file_extension": ".py",
   "mimetype": "text/x-python",
   "name": "python",
   "nbconvert_exporter": "python",
   "pygments_lexer": "ipython3",
   "version": "3.11.5"
  }
 },
 "nbformat": 4,
 "nbformat_minor": 5
}
